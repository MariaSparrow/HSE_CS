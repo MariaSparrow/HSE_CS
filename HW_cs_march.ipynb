{
 "cells": [
  {
   "cell_type": "markdown",
   "metadata": {
    "id": "view-in-github",
    "colab_type": "text"
   },
   "source": [
    "<a href=\"https://colab.research.google.com/github/MariaSparrow/HSE_CS/blob/main/HW_cs_march_2023.ipynb\" target=\"_parent\"><img src=\"https://colab.research.google.com/assets/colab-badge.svg\" alt=\"Open In Colab\"/></a>"
   ]
  },
  {
   "cell_type": "markdown",
   "source": [
    "# Домашнее задание № 3 Построение заявочной скоринговой модели\n",
    "**Общая информация:**\n",
    "- ⚡Дата выдачи: 26.02.2024\n",
    "- ⏰ Мягкий дедлайн 23:59MSK 14.03.2024\n",
    "- ⏰ Жесткий дедлайн 23:59MSK 24.03.2024\n",
    "- ✍ работы должны быть высланы на почту maria.vorobyova.ser@gmail.com с темой HSE_CS_[направление]_ФИО, например HSE_CS_ПАД_ИВАНОВ_ИВАН_ИВАНОВИЧ\n",
    "\n",
    "**Оценивание и штрафы:**\n",
    "\n",
    "Максимальный балл за работу — 10 баллов. За каждый день просрочки снимается 0.2 балла. После жесткого дедлайна сдача невозможна.\n",
    "\n",
    "Задание должно быть выполнено самостоятельно, «похожие» решения будут рассмотрены как \"плагиат\" и все похожие работы будут оценены баллом 0.\n",
    "\n",
    "_Оценка будет снижена, если_ \n",
    "- нет комментариев \n",
    "- код написан плохо, непонятно\n",
    "- сделаны неверные выводы\n",
    "\n",
    "**Что нужно сделать?**\n",
    "\n",
    "Необходимо построить модель, оценивающую вероятность дефолта клиента на стадии заведения кредитной заявки. Идти нужно строго по ноутбуку и выполнять задания каждого блока.\n",
    "\n",
    "Перед началом выполнения работы необходимо скачать 2 датасета:\n",
    " - Данные с одобренными кредитными заявками [датасет](https://drive.google.com/file/d/1YUEMYCmvLs786AyIUV4l4NZg6k4Sb1cj/view?usp=share_link)\n",
    " - Данные с отказанными кредитными заявками [датасет](https://drive.google.com/file/d/1Q1YS4HKJVkTkIRTQsxSzutuKiM5mxUqx/view?usp=share_link)\n",
    "\n",
    "Описание датасета:\n",
    "\n",
    "1. target - целевая переменная (1- клиент достиг просрочку 90 дней в первый год кредита, 0 - иначе)\n",
    "2. INCOME_TYPE - тип подтверждения дохода                \n",
    "3. EDUCATION_  -  образование               \n",
    "4. CUSTOMER_CATEGORY_  - категория клиента         \n",
    "5. income   - доход клиента                  \n",
    "6. DEPENDANT_NUMBER   - количество иждевенцев         \n",
    "7. IS_EMPL    - это сотрудник банка                  \n",
    "8. COUNT_ACTIVE_CREDIT_NO_CC  - количество октрытых кредитов без учета кредитных карт\n",
    "9. CNT_MNTH_FROM_LAST_PMNT    - сколько месяцев прошло с момента последнего платежа по предудущему кредиту\n",
    "10. age  - возраст клиента                     \n",
    "11. experience  - стаж клиента               \n",
    "12. inquiry_14_day   - количество запросов в бюро кредитных историй за последние 14 дней          \n",
    "13. inquiry_21_day   - количество запросов в бюро кредитных историй за последние 21 день                  \n",
    "14. count_mnth_act_passport - сколько месяцев прошло с момента выдачи выдачи паспорта     \n",
    "15. UID  - ID заявки    \n",
    "\n",
    "Желаем вам удачи!✌\n",
    "\n",
    "Ссылка на слайды [семинара](https://docs.google.com/presentation/d/1GA9rM8E_WOItnjc_Ikj93gJfoylP42b4/edit?usp=sharing&ouid=110376101452807962761&rtpof=true&sd=true)"
   ],
   "metadata": {
    "id": "hPOTWKJAdEsE"
   }
  },
  {
   "cell_type": "code",
   "source": [
    "# import библиотек\n",
    "import pandas as pd\n",
    "import numpy as np\n",
    "\n",
    "# чтобы отобразить больше столбцов и строк\n",
    "# pd.options.display.max_rows = 50\n",
    "pd.options.display.max_columns = 200\n",
    "\n",
    "import warnings\n",
    "warnings.filterwarnings('error')\n",
    "\n",
    "\n",
    "# для работы с датами, временем\n",
    "from datetime import timedelta\n",
    "import datetime as dt\n",
    "\n",
    "# для построения графиков\n",
    "import matplotlib.pyplot as plt\n",
    "# %matplotlib inline\n",
    "plt.rcParams['figure.figsize'] = [10, 8]\n",
    "import seaborn as sns"
   ],
   "metadata": {
    "id": "aLcRyNilZcA4"
   },
   "execution_count": null,
   "outputs": []
  },
  {
   "cell_type": "code",
   "execution_count": null,
   "metadata": {
    "ExecuteTime": {
     "end_time": "2020-10-15T12:35:33.373219Z",
     "start_time": "2020-10-15T12:35:33.301636Z"
    },
    "id": "GbKaJGuNYJK-"
   },
   "outputs": [],
   "source": [
    "# считать данные\n",
    "accept = # YOUR CODE HERE\n",
    "reject = # YOUR CODE HERE"
   ]
  },
  {
   "cell_type": "markdown",
   "source": [
    "# Explatory Data Analysis. Максимально - 2 балла\n",
    "\n",
    "- 0 баллов, если задание не выполнено\n",
    "- 1 балл, если посчитаны статистики,есть какие-то графики (важно, ПОЛЕЗНЫЕ графики), но не сделаны выводы\n",
    "- 2 балла, если посчитаны статистики и есть графики (важно, ПОЛЕЗНЫЕ графики) и сделаны ВЫВОДЫ (важно, что выводы правильные)"
   ],
   "metadata": {
    "id": "gDzD86tue2VD"
   }
  },
  {
   "cell_type": "code",
   "source": [
    "# YOUR CODE HERE"
   ],
   "metadata": {
    "id": "Uo66iNV5n-yW"
   },
   "execution_count": null,
   "outputs": []
  },
  {
   "cell_type": "markdown",
   "source": [
    "# Создание дополнительных переменных. Максимально - 1 балл\n",
    "\n",
    "Будьте креативными, чем больше переменных, тем больше балл! При этом переменные должны быть логичными, нелогичные переменные не принимаются\n",
    "\n",
    "- 0 баллов, если задание не выполнено\n",
    "- 0.5 баллов - создана 2 дополнительные переменные \n",
    "- 1 балл создано больше 3 переменных \n"
   ],
   "metadata": {
    "id": "qLMBn4l4oCUF"
   }
  },
  {
   "cell_type": "code",
   "source": [
    "# YOUR CODE HERE"
   ],
   "metadata": {
    "id": "x61ggZPaqm_Q"
   },
   "execution_count": null,
   "outputs": []
  },
  {
   "cell_type": "markdown",
   "metadata": {
    "id": "dLgsHhPCYJLK"
   },
   "source": [
    "# Построение модели на одобренных заявках. Максимально - 4 балла\n",
    "Необхоимо построить логистическую регрессию на WoE переменных. \n",
    "\n",
    "Если построена любая другая модель, балл = 0"
   ]
  },
  {
   "cell_type": "code",
   "source": [
    "# Помним про разбиение данных на тест и трейн\n",
    "from sklearn.model_selection import train_test_split\n",
    "train, test, y_train, y_test = train_test_split(accept, \n",
    "                                                accept['target'],\n",
    "                                                test_size=0.2, \n",
    "                                                random_state=42, \n",
    "                                                stratify=(accept['target']))\n",
    "\n"
   ],
   "metadata": {
    "id": "tLbc0tssuWM-"
   },
   "execution_count": null,
   "outputs": []
  },
  {
   "cell_type": "markdown",
   "source": [
    "Необходимо расчитать WoE преобразование - максимально - 3 балла\n",
    "\n",
    "\n",
    "\n",
    "Расчет WoE должен быть в 2 этапа:\n",
    "\n",
    "1 шаг. Fine Classing (1 балл). Разбиение на большое количество бинов(интервалов)\n",
    "  - обычно интервальные переменные делят по  20, 30 и так далее интервалов\n",
    "  - для категориальных переменных - одна категория - одна группа\n",
    "  - далее для каждой группы рассчитываем WoE\n",
    "\n",
    "2 шаг. Coarse classing (2 балла). Укрупнение интервалов, которые получены на 1-ом шаге. В итоге должно получится не больше 5-10 интервалов. \n",
    "  - Обычно объединяют группы с похожими значениями WoE \n",
    "  - WoE должен быть монотонным, то есть после вашего объединения результат должен быть интерпретируемым (необходимо продемонстрировать графически, что WoE монотонен )\n",
    "\n"
   ],
   "metadata": {
    "id": "moF8yQ5Yrge5"
   }
  },
  {
   "cell_type": "code",
   "execution_count": null,
   "metadata": {
    "ExecuteTime": {
     "end_time": "2020-10-15T12:35:40.235256Z",
     "start_time": "2020-10-15T12:35:40.226211Z"
    },
    "pycharm": {
     "is_executing": true
    },
    "id": "UMmiEzvVYJLK"
   },
   "outputs": [],
   "source": [
    "# YOUR CODE HERE"
   ]
  },
  {
   "cell_type": "markdown",
   "source": [
    "построение и оценка логистической регресии - максимально 1 балл\n",
    "- построена только логистическая регрессия - 0.3 балла\n",
    "- сделана оценка модели ( roc auc, f1, и так далее) - 0.3 балла\n",
    "- построена скоркарта - 0.4 балла\n",
    "\n",
    "Напомню, что для скоркарты нужны следующие формулы (детали в лекции и семинаре)\n",
    "\n",
    "Score_i =  (βi × WoE_i + α/n) × Factor + Offset/n, где\n",
    "\n",
    "- Factor = pdo/ln(2)\n",
    "\n",
    "- Offset = Target Score — (Factor × ln(Target Odds))"
   ],
   "metadata": {
    "id": "a_gU5MsDtlfU"
   }
  },
  {
   "cell_type": "code",
   "source": [
    "from sklearn.linear_model import LogisticRegression\n",
    "from sklearn import metrics\n",
    "\n",
    "logreg = LogisticRegression()\n",
    "logreg.fit(X_train, y_train)\n",
    "# YOUR CODE HERE"
   ],
   "metadata": {
    "id": "KO1Tkg7k1Kq_"
   },
   "execution_count": null,
   "outputs": []
  },
  {
   "cell_type": "markdown",
   "source": [
    "# Reject Inference (Анализ отклоненных заявок). Максимально -  3 балла\n",
    "- проведен анализ отклоненых заявок и сравнение с одобренными заявками - 0.2 балла\n",
    "- проведена разметка отклоненных заявок одним методом (метод можно взять либо из семинара/лекции или любой другой логичный метод, просто всем ставить 1 - нельзя) - 1 балл\n",
    "- построена общая логистическая регрессия с WoE переменными на одобренных и отказанных заявках - 1 балл\n",
    "- построена скоркарта - 0.3 балла\n",
    "- сделан вывод и даны рекомендации какую модель внедрять в продакшен среду 0.3 балла\n",
    "- даны рекомендации как реализовать мониторинг модели после внедрения в продакшен 0.2 балла"
   ],
   "metadata": {
    "id": "Qx4DuBocvS9T"
   }
  },
  {
   "cell_type": "code",
   "source": [
    "# YOUR CODE HERE"
   ],
   "metadata": {
    "id": "JmbXZxHMysqF"
   },
   "execution_count": null,
   "outputs": []
  },
  {
   "cell_type": "markdown",
   "source": [
    "_Опционально, для тех , кто добрался до конца ноутбука_ 😊\n",
    "\n",
    "ваше впечатление от работы. \n",
    "Что было сложно? \n",
    "Что было интересно?"
   ],
   "metadata": {
    "id": "iHkEHf0lx78v"
   }
  }
 ],
 "metadata": {
  "kernelspec": {
   "display_name": "Python 3 (ipykernel)",
   "language": "python",
   "name": "python3"
  },
  "language_info": {
   "codemirror_mode": {
    "name": "ipython",
    "version": 3
   },
   "file_extension": ".py",
   "mimetype": "text/x-python",
   "name": "python",
   "nbconvert_exporter": "python",
   "pygments_lexer": "ipython3",
   "version": "3.8.2"
  },
  "colab": {
   "provenance": [],
   "include_colab_link": true
  }
 },
 "nbformat": 4,
 "nbformat_minor": 0
}
